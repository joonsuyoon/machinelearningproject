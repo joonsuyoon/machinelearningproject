{
  "cells": [
    {
      "cell_type": "code",
      "execution_count": null,
      "id": "18930187",
      "metadata": {},
      "outputs": [
        {
          "name": "stdout",
          "output_type": "stream",
          "text": [
            "단란주점영업: 38 rows\n",
            "대규모점포: 22 rows\n",
            "유흥주점영업: 26 rows\n",
            "일반음식점: 3770 rows\n",
            "휴게음식점: 1449 rows\n"
          ]
        }
      ],
      "source": [
        "import pandas as pd\n",
        "\n",
        "인허가정보들 = [\n",
        "  {\n",
        "    \"name\": \"단란주점영업\",\n",
        "    \"src\": \"./refined_datasets/단란주점영업_인허가정보.csv\"\n",
        "  },\n",
        "  {\n",
        "    \"name\": \"대규모점포\",\n",
        "    \"src\": \"./refined_datasets/대규모점포_인허가정보.csv\"\n",
        "  },\n",
        "  {\n",
        "    \"name\": \"유흥주점영업\",\n",
        "    \"src\": \"./refined_datasets/유흥주점영업_인허가정보.csv\"\n",
        "  },\n",
        "  {\n",
        "    \"name\": \"일반음식점\",\n",
        "    \"src\": \"./refined_datasets/일반음식점_인허가정보.csv\"\n",
        "  },\n",
        "  {\n",
        "    \"name\": \"휴게음식점\",\n",
        "    \"src\": \"./refined_datasets/휴게음식점_인허가정보.csv\"\n",
        "  }\n",
        "]\n",
        "\n",
        "for 인허가정보 in 인허가정보들:\n",
        "  df = pd.read_csv(인허가정보[\"src\"], encoding=\"utf-8\")\n",
        "  # 구가 강서구인 것만\n",
        "  df = df[df[\"구\"] == \"강서구\"]\n",
        "\n",
        "  print(f\"{인허가정보['name']}: {len(df)}\")\n",
        "\n"
      ]
    },
    {
      "cell_type": "code",
      "execution_count": null,
      "id": "8770cbd9",
      "metadata": {},
      "outputs": [],
      "source": []
    }
  ],
  "metadata": {
    "kernelspec": {
      "display_name": "base",
      "language": "python",
      "name": "python3"
    },
    "language_info": {
      "codemirror_mode": {
        "name": "ipython",
        "version": 3
      },
      "file_extension": ".py",
      "mimetype": "text/x-python",
      "name": "python",
      "nbconvert_exporter": "python",
      "pygments_lexer": "ipython3",
      "version": "3.12.7"
    }
  },
  "nbformat": 4,
  "nbformat_minor": 5
}
